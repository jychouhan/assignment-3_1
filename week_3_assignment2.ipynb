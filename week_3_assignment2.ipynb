{
 "cells": [
  {
   "cell_type": "code",
   "execution_count": 1,
   "id": "a9240308-fd98-45f9-bc19-145fe57a1a89",
   "metadata": {},
   "outputs": [],
   "source": [
    "# Answer 1"
   ]
  },
  {
   "cell_type": "code",
   "execution_count": 2,
   "id": "9703789d-bdc0-4d99-832f-0d83146c9053",
   "metadata": {},
   "outputs": [],
   "source": [
    "l = [('Sachin Tendulkar',34357),('Ricky ponting',27483),('Jack Kallis',25534),('Virat Kohli',24936)]"
   ]
  },
  {
   "cell_type": "code",
   "execution_count": 3,
   "id": "351ed05d-f214-4990-9c36-bb99a0a83221",
   "metadata": {},
   "outputs": [
    {
     "data": {
      "text/plain": [
       "[('Virat Kohli', 24936),\n",
       " ('Jack Kallis', 25534),\n",
       " ('Ricky ponting', 27483),\n",
       " ('Sachin Tendulkar', 34357)]"
      ]
     },
     "execution_count": 3,
     "metadata": {},
     "output_type": "execute_result"
    }
   ],
   "source": [
    "sorted(l, key = lambda x : x[1])"
   ]
  },
  {
   "cell_type": "code",
   "execution_count": 4,
   "id": "6c3d7612-3cb8-41ee-836d-0e1d7b4e31d8",
   "metadata": {},
   "outputs": [],
   "source": [
    "# Answer 2"
   ]
  },
  {
   "cell_type": "code",
   "execution_count": 5,
   "id": "bc4e70ff-29f6-4b36-8a5d-b2a532063797",
   "metadata": {},
   "outputs": [],
   "source": [
    "l1 = [1,2,3,4,5,6,7,8,9,10]"
   ]
  },
  {
   "cell_type": "code",
   "execution_count": 6,
   "id": "4314db4a-6f6c-4c5f-a6c0-3d39ac3ce732",
   "metadata": {},
   "outputs": [],
   "source": [
    "sq = list(map(lambda x: x**2,l1))"
   ]
  },
  {
   "cell_type": "code",
   "execution_count": 7,
   "id": "314482ac-4e15-404a-ac50-539342d024bc",
   "metadata": {},
   "outputs": [
    {
     "data": {
      "text/plain": [
       "[1, 4, 9, 16, 25, 36, 49, 64, 81, 100]"
      ]
     },
     "execution_count": 7,
     "metadata": {},
     "output_type": "execute_result"
    }
   ],
   "source": [
    "sq"
   ]
  },
  {
   "cell_type": "code",
   "execution_count": 8,
   "id": "c181209a-6908-431c-b495-5e42ee9adf7f",
   "metadata": {},
   "outputs": [],
   "source": [
    "# Answer 3"
   ]
  },
  {
   "cell_type": "code",
   "execution_count": 9,
   "id": "1949bed3-21db-487f-a19d-2ff1a485ff0f",
   "metadata": {},
   "outputs": [
    {
     "data": {
      "text/plain": [
       "[1, 2, 3, 4, 5, 6, 7, 8, 9, 10]"
      ]
     },
     "execution_count": 9,
     "metadata": {},
     "output_type": "execute_result"
    }
   ],
   "source": [
    "l1"
   ]
  },
  {
   "cell_type": "code",
   "execution_count": 10,
   "id": "f1cb7e9b-644e-4bd8-b6fb-eecb10465ac1",
   "metadata": {},
   "outputs": [],
   "source": [
    "string = tuple(map(lambda x: str(x), l1 ))"
   ]
  },
  {
   "cell_type": "code",
   "execution_count": 11,
   "id": "775c769a-f42c-46ff-98a8-6642d4b0ad3d",
   "metadata": {},
   "outputs": [
    {
     "data": {
      "text/plain": [
       "('1', '2', '3', '4', '5', '6', '7', '8', '9', '10')"
      ]
     },
     "execution_count": 11,
     "metadata": {},
     "output_type": "execute_result"
    }
   ],
   "source": [
    "string"
   ]
  },
  {
   "cell_type": "code",
   "execution_count": 12,
   "id": "12020e8b-a747-440c-bf2d-2929da30f2d2",
   "metadata": {},
   "outputs": [],
   "source": [
    "# Answer 4"
   ]
  },
  {
   "cell_type": "code",
   "execution_count": 13,
   "id": "b1f52550-75a3-454e-834a-1fe86be67ec9",
   "metadata": {},
   "outputs": [],
   "source": [
    " from functools import reduce"
   ]
  },
  {
   "cell_type": "code",
   "execution_count": 14,
   "id": "57074aaf-421f-4831-9ec1-161cb11875d9",
   "metadata": {},
   "outputs": [],
   "source": [
    "l2 = list(range(1,26))"
   ]
  },
  {
   "cell_type": "code",
   "execution_count": 15,
   "id": "a0ed9b1d-f901-4b0c-b69d-5ba42083f48c",
   "metadata": {},
   "outputs": [
    {
     "data": {
      "text/plain": [
       "[1,\n",
       " 2,\n",
       " 3,\n",
       " 4,\n",
       " 5,\n",
       " 6,\n",
       " 7,\n",
       " 8,\n",
       " 9,\n",
       " 10,\n",
       " 11,\n",
       " 12,\n",
       " 13,\n",
       " 14,\n",
       " 15,\n",
       " 16,\n",
       " 17,\n",
       " 18,\n",
       " 19,\n",
       " 20,\n",
       " 21,\n",
       " 22,\n",
       " 23,\n",
       " 24,\n",
       " 25]"
      ]
     },
     "execution_count": 15,
     "metadata": {},
     "output_type": "execute_result"
    }
   ],
   "source": [
    "l2"
   ]
  },
  {
   "cell_type": "code",
   "execution_count": 16,
   "id": "dc81a156-ccb1-4c31-93d4-d2d0a6c78cb1",
   "metadata": {},
   "outputs": [
    {
     "data": {
      "text/plain": [
       "15511210043330985984000000"
      ]
     },
     "execution_count": 16,
     "metadata": {},
     "output_type": "execute_result"
    }
   ],
   "source": [
    "reduce(lambda x, y : x * y, l2)"
   ]
  },
  {
   "cell_type": "code",
   "execution_count": 17,
   "id": "04de9712-b91d-48ec-ab4e-14503f3046ef",
   "metadata": {},
   "outputs": [],
   "source": [
    "# Answer 5"
   ]
  },
  {
   "cell_type": "code",
   "execution_count": 18,
   "id": "2327058b-3f94-4e02-bde1-40c9d7583613",
   "metadata": {},
   "outputs": [],
   "source": [
    "l3 = [2,3,6,9,27,60,90,120,55,46]"
   ]
  },
  {
   "cell_type": "code",
   "execution_count": 19,
   "id": "20cd72bf-b57b-4063-a8df-754c72ae664e",
   "metadata": {},
   "outputs": [
    {
     "data": {
      "text/plain": [
       "[6, 60, 90, 120]"
      ]
     },
     "execution_count": 19,
     "metadata": {},
     "output_type": "execute_result"
    }
   ],
   "source": [
    "list(filter(lambda x : x%2==0 and x%3==0, l3))"
   ]
  },
  {
   "cell_type": "code",
   "execution_count": 20,
   "id": "f0df40cc-3028-4e9e-bd86-4c48ac1be452",
   "metadata": {},
   "outputs": [],
   "source": [
    "# Answer 6"
   ]
  },
  {
   "cell_type": "code",
   "execution_count": 21,
   "id": "99f9a29c-9f5a-4495-a24f-a906f46d611d",
   "metadata": {},
   "outputs": [],
   "source": [
    "l4 = ['python','php','aba','radar','level']"
   ]
  },
  {
   "cell_type": "code",
   "execution_count": 22,
   "id": "1ab40325-acb9-4ecf-a478-b13defb0f222",
   "metadata": {},
   "outputs": [
    {
     "data": {
      "text/plain": [
       "['php', 'aba', 'radar', 'level']"
      ]
     },
     "execution_count": 22,
     "metadata": {},
     "output_type": "execute_result"
    }
   ],
   "source": [
    "list(filter(lambda x : x == x[::-1], l4 ))"
   ]
  }
 ],
 "metadata": {
  "kernelspec": {
   "display_name": "Python 3 (ipykernel)",
   "language": "python",
   "name": "python3"
  },
  "language_info": {
   "codemirror_mode": {
    "name": "ipython",
    "version": 3
   },
   "file_extension": ".py",
   "mimetype": "text/x-python",
   "name": "python",
   "nbconvert_exporter": "python",
   "pygments_lexer": "ipython3",
   "version": "3.10.8"
  }
 },
 "nbformat": 4,
 "nbformat_minor": 5
}
